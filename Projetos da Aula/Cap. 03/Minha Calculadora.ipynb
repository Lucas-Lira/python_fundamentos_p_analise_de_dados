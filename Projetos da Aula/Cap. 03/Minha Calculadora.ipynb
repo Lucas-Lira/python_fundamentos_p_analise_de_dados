{
 "cells": [
  {
   "cell_type": "code",
   "execution_count": null,
   "metadata": {},
   "outputs": [],
   "source": [
    "print('****************************** Python Calculator ******************************')\n",
    "\n",
    "operation = 0\n",
    "value1 = 0\n",
    "value2 = 0\n",
    "\n",
    "try:\n",
    "\n",
    "    operation = int(input('Selecione o número da opção desejada:\\n\\n[ 0 ] - Sair\\n[ 1 ] - Soma\\n[ 2 ] - Subtração\\n[ 3 ] - Multiplicação\\n[ 4 ] - Divisão\\n\\n'))\n",
    "\n",
    "    while operation != 0:\n",
    "        \n",
    "        value1 = float(input('First number: '))\n",
    "        value2 = float(input('Second number: '))\n",
    "        \n",
    "        if operation == 1:\n",
    "            print('Resultado: ' + str(value1 + value2))\n",
    "        elif operation == 2:\n",
    "            print('Resultado: ' + str(value1 - value2))\n",
    "        elif operation == 3:\n",
    "            print('Resultado: ' + str(value1 * value2))\n",
    "        elif operation == 4:\n",
    "            print('Resultado: ' + str(value1 / value2))\n",
    "        \n",
    "        operation = int(input('Selecione o número da opção desejada:\\n\\n[ 0 ] - Sair\\n[ 1 ] - Soma\\n[ 2 ] - Subtração\\n[ 3 ] - Multiplicação\\n[ 4 ] - Divisão\\n\\n'))\n",
    "    \n",
    "except:\n",
    "    print('A operação ou o valor informado é inválido')"
   ]
  },
  {
   "cell_type": "code",
   "execution_count": null,
   "metadata": {},
   "outputs": [],
   "source": []
  }
 ],
 "metadata": {
  "kernelspec": {
   "display_name": "Python 3",
   "language": "python",
   "name": "python3"
  },
  "language_info": {
   "codemirror_mode": {
    "name": "ipython",
    "version": 3
   },
   "file_extension": ".py",
   "mimetype": "text/x-python",
   "name": "python",
   "nbconvert_exporter": "python",
   "pygments_lexer": "ipython3",
   "version": "3.8.5"
  }
 },
 "nbformat": 4,
 "nbformat_minor": 4
}
